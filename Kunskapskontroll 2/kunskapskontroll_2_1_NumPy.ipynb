{
 "cells": [
  {
   "cell_type": "markdown",
   "id": "dacf74e6",
   "metadata": {},
   "source": [
    "# NumPy"
   ]
  },
  {
   "cell_type": "markdown",
   "id": "01b2bf34",
   "metadata": {},
   "source": [
    "Read the links: https://numpy.org/doc/stable/user/quickstart.html  and https://numpy.org/doc/stable/user/basics.broadcasting.html  before solving the exercises. "
   ]
  },
  {
   "cell_type": "code",
   "execution_count": 5,
   "id": "1f79e4a6",
   "metadata": {},
   "outputs": [],
   "source": [
    "import numpy as np"
   ]
  },
  {
   "cell_type": "markdown",
   "id": "7dae6889",
   "metadata": {},
   "source": [
    "### Print out the dimension (number of axes), shape, size and the datatype of the matrix A."
   ]
  },
  {
   "cell_type": "code",
   "execution_count": 7,
   "id": "7b3678cd",
   "metadata": {},
   "outputs": [],
   "source": [
    "A = np.arange(1, 16).reshape(3,5)"
   ]
  },
  {
   "cell_type": "code",
   "execution_count": 9,
   "id": "67ce0c95-8595-40e3-88cc-9917b73a2648",
   "metadata": {},
   "outputs": [
    {
     "name": "stdout",
     "output_type": "stream",
     "text": [
      "2\n",
      "(3, 5)\n",
      "15\n",
      "int32\n"
     ]
    }
   ],
   "source": [
    "print(A.ndim)\n",
    "print(A.shape)\n",
    "print(A.size)\n",
    "print(A.dtype)"
   ]
  },
  {
   "cell_type": "markdown",
   "id": "e56d2a96",
   "metadata": {},
   "source": [
    "### Do the following computations on the matrices B and C: \n",
    "* Elementwise subtraction. \n",
    "* Elementwise multiplication. \n",
    "* Matrix multiplication (by default you should use the @ operator)."
   ]
  },
  {
   "cell_type": "code",
   "execution_count": 12,
   "id": "a7053fbb",
   "metadata": {},
   "outputs": [
    {
     "name": "stdout",
     "output_type": "stream",
     "text": [
      "[[1 2 3]\n",
      " [4 5 6]\n",
      " [7 8 9]]\n",
      "\n",
      "[[2. 2. 2.]\n",
      " [2. 2. 2.]\n",
      " [2. 2. 2.]]\n"
     ]
    }
   ],
   "source": [
    "B = np.arange(1, 10).reshape(3, 3)\n",
    "C = np.ones((3, 3))*2\n",
    "\n",
    "print(B)\n",
    "print()\n",
    "print(C)"
   ]
  },
  {
   "cell_type": "code",
   "execution_count": 14,
   "id": "3cd794ae",
   "metadata": {},
   "outputs": [
    {
     "name": "stdout",
     "output_type": "stream",
     "text": [
      "[[-1.  0.  1.]\n",
      " [ 2.  3.  4.]\n",
      " [ 5.  6.  7.]]\n",
      "\n",
      "[[ 2.  4.  6.]\n",
      " [ 8. 10. 12.]\n",
      " [14. 16. 18.]]\n",
      "\n",
      "[[12. 12. 12.]\n",
      " [30. 30. 30.]\n",
      " [48. 48. 48.]]\n"
     ]
    }
   ],
   "source": [
    "A_sub = B - C # Elementwise subtraction.\n",
    "A_mult = B * C # Elementwise multiplication.\n",
    "A_mtx = B @ C # Matrix multiplication (by default you should use the @ operator).\n",
    "\n",
    "print(A_sub)\n",
    "print()\n",
    "print(A_mult)\n",
    "print()\n",
    "print(A_mtx)"
   ]
  },
  {
   "cell_type": "markdown",
   "id": "96030d53",
   "metadata": {},
   "source": [
    "### Do the following calculations on the matrix:\n",
    "* Exponentiate each number elementwise (use the np.exp function).\n",
    "\n",
    "* Calculate the minimum value in the whole matrix. \n",
    "* Calculcate the minimum value in each row. \n",
    "* Calculcate the minimum value in each column. \n",
    "\n",
    "\n",
    "* Find the index value for the minimum value in the whole matrix (hint: use np.argmin).\n",
    "* Find the index value for the minimum value in each row (hint: use np.argmin).\n",
    "\n",
    "\n",
    "* Calculate the sum for all elements.\n",
    "* Calculate the mean for each column. \n",
    "* Calculate the median for each column. "
   ]
  },
  {
   "cell_type": "code",
   "execution_count": 17,
   "id": "f8a9166b",
   "metadata": {},
   "outputs": [
    {
     "name": "stdout",
     "output_type": "stream",
     "text": [
      "[[1 2 3]\n",
      " [4 5 6]\n",
      " [7 8 9]]\n"
     ]
    }
   ],
   "source": [
    "B = np.arange(1, 10).reshape(3, 3)\n",
    "print(B)"
   ]
  },
  {
   "cell_type": "code",
   "execution_count": 19,
   "id": "f03f24f7",
   "metadata": {},
   "outputs": [
    {
     "name": "stdout",
     "output_type": "stream",
     "text": [
      "[[2.71828183e+00 7.38905610e+00 2.00855369e+01]\n",
      " [5.45981500e+01 1.48413159e+02 4.03428793e+02]\n",
      " [1.09663316e+03 2.98095799e+03 8.10308393e+03]]\n",
      "\n",
      "1\n",
      "[1 4 7]\n",
      "[1 2 3]\n",
      "0\n",
      "[0 0 0]\n",
      "45\n",
      "[4. 5. 6.]\n",
      "[4. 5. 6.]\n"
     ]
    }
   ],
   "source": [
    "B_exp = np.exp(B)\n",
    "B_min = np.min(B)\n",
    "B_min_row = np.min(B, axis=1)\n",
    "B_min_col = np.min(B, axis=0)\n",
    "B_min_index = np.argmin(B)\n",
    "B_min_index_row = np.argmin(B, axis=1)\n",
    "B_sum = np.sum(B)\n",
    "B_mean_col = np.mean(B, axis=0)\n",
    "B_median_col = np.median(B, axis=0)\n",
    "print(B_exp)\n",
    "print()\n",
    "print(B_min)\n",
    "print(B_min_row)\n",
    "print(B_min_col)\n",
    "print(B_min_index)\n",
    "print(B_min_index_row)\n",
    "print(B_sum)\n",
    "print(B_mean_col)\n",
    "print(B_median_col)"
   ]
  },
  {
   "cell_type": "markdown",
   "id": "541eb7ba",
   "metadata": {},
   "source": [
    "### What does it mean when you provide fewer indices than axes when slicing? See example below."
   ]
  },
  {
   "cell_type": "code",
   "execution_count": 22,
   "id": "9c8abf56",
   "metadata": {},
   "outputs": [
    {
     "name": "stdout",
     "output_type": "stream",
     "text": [
      "[[ 1  2  3  4  5]\n",
      " [ 6  7  8  9 10]\n",
      " [11 12 13 14 15]]\n"
     ]
    }
   ],
   "source": [
    "print(A)"
   ]
  },
  {
   "cell_type": "code",
   "execution_count": 24,
   "id": "69415f7b",
   "metadata": {},
   "outputs": [
    {
     "data": {
      "text/plain": [
       "array([ 6,  7,  8,  9, 10])"
      ]
     },
     "execution_count": 24,
     "metadata": {},
     "output_type": "execute_result"
    }
   ],
   "source": [
    "A[1]"
   ]
  },
  {
   "cell_type": "markdown",
   "id": "6c53541b",
   "metadata": {},
   "source": [
    "**Answer:**"
   ]
  },
  {
   "cell_type": "markdown",
   "id": "f03d1d63-7aac-4615-b692-dfcbf8179c00",
   "metadata": {},
   "source": [
    "##### When fewer indices are provided than the number of axes, the missing indices are considered complete slices:"
   ]
  },
  {
   "cell_type": "code",
   "execution_count": null,
   "id": "fd640538-5ec1-4d5a-bff5-8dc14af74e7d",
   "metadata": {},
   "outputs": [],
   "source": [
    "### Iterating over multidimensional arrays is done with respect to the first axis, so in the example below we iterate trough the rows. If you would like to iterate through the array *elementwise*, how would you do that?"
   ]
  },
  {
   "cell_type": "code",
   "execution_count": 30,
   "id": "a671bb5a",
   "metadata": {},
   "outputs": [
    {
     "name": "stdout",
     "output_type": "stream",
     "text": [
      "[1 2 3 4 5]\n",
      "[ 6  7  8  9 10]\n",
      "[11 12 13 14 15]\n"
     ]
    }
   ],
   "source": [
    "for i in A:\n",
    "    print(i)"
   ]
  },
  {
   "cell_type": "code",
   "execution_count": 32,
   "id": "f4e443a0",
   "metadata": {},
   "outputs": [
    {
     "name": "stdout",
     "output_type": "stream",
     "text": [
      "1\n",
      "2\n",
      "3\n",
      "4\n",
      "5\n",
      "6\n",
      "7\n",
      "8\n",
      "9\n",
      "10\n",
      "11\n",
      "12\n",
      "13\n",
      "14\n",
      "15\n"
     ]
    }
   ],
   "source": [
    "for element in A.flat: # By using flat attributes\n",
    "    print(element)"
   ]
  },
  {
   "cell_type": "markdown",
   "id": "608a2583",
   "metadata": {},
   "source": [
    "### Explain what the code below does. More specifically, b has three axes - what does this mean? "
   ]
  },
  {
   "cell_type": "code",
   "execution_count": 35,
   "id": "f8f9b26f",
   "metadata": {},
   "outputs": [
    {
     "name": "stdout",
     "output_type": "stream",
     "text": [
      "[ 0  1  2  3  4  5  6  7  8  9 10 11 12 13 14 15 16 17 18 19 20 21 22 23\n",
      " 24 25 26 27 28 29]\n",
      "\n",
      "[[[ 0  1  2  3  4]\n",
      "  [ 5  6  7  8  9]\n",
      "  [10 11 12 13 14]]\n",
      "\n",
      " [[15 16 17 18 19]\n",
      "  [20 21 22 23 24]\n",
      "  [25 26 27 28 29]]]\n"
     ]
    }
   ],
   "source": [
    "a = np.arange(30)\n",
    "b = a.reshape((2, 3, -1))\n",
    "print(a)\n",
    "print()\n",
    "\n",
    "print(b)"
   ]
  },
  {
   "cell_type": "code",
   "execution_count": 37,
   "id": "863a45df",
   "metadata": {},
   "outputs": [
    {
     "data": {
      "text/plain": [
       "(2, 3, 5)"
      ]
     },
     "execution_count": 37,
     "metadata": {},
     "output_type": "execute_result"
    }
   ],
   "source": [
    "b.shape\n",
    "# a is a 1D array with 30 elements (0-29)\n",
    "# b is reshaped into a 3D array using the reshape method into 2 blocks (arrays) with 3 rows in each array, \n",
    "# since each block must contain 15 elements, so there will be 5 columns, b has the form (2, 3, 5)\n"
   ]
  },
  {
   "cell_type": "code",
   "execution_count": null,
   "id": "eed38bbb-dd20-4d23-837f-679aa3d3a067",
   "metadata": {},
   "outputs": [],
   "source": []
  },
  {
   "cell_type": "markdown",
   "id": "421c9607-819a-401d-949a-97424436fe29",
   "metadata": {},
   "source": [
    "# For the exercises below, read the document *\"matematik_yh_antonio_vektorer_matriser_utdrag\"*\n",
    "# Solutions to the exercises and recorded videos can be found here: https://github.com/AntonioPrgomet/matematik_foer_yh\n",
    "\n",
    "# If you find the exercises below very hard, do not worry. Try your best, that will be enough. "
   ]
  },
  {
   "cell_type": "markdown",
   "id": "ab5933d5",
   "metadata": {},
   "source": [
    "### Broadcasting\n",
    "**Read the following link about broadcasting: https://numpy.org/doc/stable/user/basics.broadcasting.html#basics-broadcasting**"
   ]
  },
  {
   "cell_type": "markdown",
   "id": "039805ba",
   "metadata": {},
   "source": [
    "# Remark on Broadcasting when doing Linear Algebra calculations in Python. "
   ]
  },
  {
   "cell_type": "markdown",
   "id": "c4bcc147",
   "metadata": {},
   "source": [
    "### From the mathematical rules of matrix addition, the operation below (m1 + m2) does not make sense. The reason is that matrix addition requires two matrices of the same size. In Python however, it works due to broadcasting rules in NumPy. So you must be careful when doing Linear Algebra calculations in Python since they do not follow the \"mathematical rules\". This can however easily be handled by doing some simple programming, for example validating that two matrices have the same shape is easy if you for instance want to add two matrices. "
   ]
  },
  {
   "cell_type": "code",
   "execution_count": 44,
   "id": "1fd46778",
   "metadata": {},
   "outputs": [
    {
     "name": "stdout",
     "output_type": "stream",
     "text": [
      "[[2 3]\n",
      " [4 5]]\n"
     ]
    }
   ],
   "source": [
    "m1 = np.array([[1, 2], [3, 4]])\n",
    "m2 = np.array([1, 1])\n",
    "print(m1 + m2)"
   ]
  },
  {
   "cell_type": "markdown",
   "id": "047d6576",
   "metadata": {},
   "source": [
    "### The example below would also not be allowed if following the \"mathematical rules\" in Linear Algebra. But it works due to broadcasting in NumPy. "
   ]
  },
  {
   "cell_type": "code",
   "execution_count": 47,
   "id": "5e6ef2e4",
   "metadata": {},
   "outputs": [
    {
     "name": "stdout",
     "output_type": "stream",
     "text": [
      "[2 3 4]\n"
     ]
    }
   ],
   "source": [
    "v1 = np.array([1, 2, 3])\n",
    "print(v1 + 1)"
   ]
  },
  {
   "cell_type": "code",
   "execution_count": 49,
   "id": "e2cbae26",
   "metadata": {},
   "outputs": [
    {
     "name": "stdout",
     "output_type": "stream",
     "text": [
      "[[1 2]\n",
      " [3 4]]\n",
      "[2 2]\n"
     ]
    }
   ],
   "source": [
    "A = np.arange(1, 5).reshape(2,2)\n",
    "print(A)\n",
    "\n",
    "b = np.array([2, 2])\n",
    "print(b)"
   ]
  },
  {
   "cell_type": "markdown",
   "id": "722fd5cd",
   "metadata": {},
   "source": [
    "# Vector- and matrix algebra Exercises"
   ]
  },
  {
   "cell_type": "markdown",
   "id": "b63a3081-d976-4d9f-bfd0-a63917e79f7d",
   "metadata": {},
   "source": [
    "**Now you are going to create a function that can be reused every time you add or multiply matrices. The function is created so that we do the addition and multiplication according to the rules of vector- and matrix algebra.**\n",
    "\n",
    "**Create a function \"add_mult_matrices\" that takes two matrices as input arguments (validate that the input are of the type numpy.ndarray by using the isinstance function), a third argument that is either 'add' or 'multiply' that specifies if you want to add or multiply the matrices (validate that the third argument is either 'add' or 'multiply'). When doing matrix addition, validate that the matrices have the same size. When doing matrix multiplication, validate that the sizes conform (i.e. number of columns in the first matrix is equal to the number of rows in the second matrix).**"
   ]
  },
  {
   "cell_type": "code",
   "execution_count": 5,
   "id": "d782f7c0-a851-4585-8b9a-6c1bcf506095",
   "metadata": {},
   "outputs": [
    {
     "name": "stdout",
     "output_type": "stream",
     "text": [
      "Add Result:\n",
      " [[ 6  8]\n",
      " [10 12]]\n",
      "Multiply Result:\n",
      " [[19 22]\n",
      " [43 50]]\n"
     ]
    }
   ],
   "source": [
    "import numpy as np\n",
    "\n",
    "def add_mult_matrices(matrix1, matrix2, operation):\n",
    "  \n",
    "    if (isinstance(matrix1, np.ndarray) and isinstance(matrix2, np.ndarray)) != True: # Validate that inputs are numpy.ndarray\n",
    "        print('Both inputs must be of type numpy.ndarray.')\n",
    "    \n",
    "    if operation != ('add') and operation != ('multiply'): # Validate the operation argument\n",
    "       print(\"The operation must be either 'add' or 'multiply'.\")\n",
    "    \n",
    "    if operation == 'add':\n",
    "        if matrix1.shape != matrix2.shape: # Validate that the matrices have the same size\n",
    "            print('For addition, both matrices must have the same dimensions.')\n",
    "        return matrix1 + matrix2\n",
    "    \n",
    "    elif operation == 'multiply':\n",
    "        if matrix1.shape[1] != matrix2.shape[0]: # Validate that the matrices can be multiplied (columns of matrix1 == rows of matrix2)\n",
    "            print('For multiplication, the number of columns in the first matrix must equal the number of rows in the second matrix.')\n",
    "        return np.dot(matrix1, matrix2)\n",
    "\n",
    "A = np.array([[1, 2], [3, 4]])\n",
    "B = np.array([[5, 6], [7, 8]])\n",
    "    \n",
    "# Addition\n",
    "print(\"Add Result:\\n\", add_mult_matrices(A, B, 'add'))\n",
    "    \n",
    "# Multiply\n",
    "print(\"Multiply Result:\\n\", add_mult_matrices(A, B, 'multiply'))\n",
    "\n"
   ]
  },
  {
   "cell_type": "markdown",
   "id": "b185d18d-4d24-404d-8c49-4a69d6bd9b4e",
   "metadata": {},
   "source": [
    "### Solve all the exercises in chapter 10.1 in the book \"Matematik för yrkeshögskolan\". "
   ]
  },
  {
   "cell_type": "markdown",
   "id": "2df788d5-762b-48dd-8bd5-f73c805b4d9a",
   "metadata": {},
   "source": [
    "## Övningsuppgifter 10.1.1\n",
    "Definiera vektorn:\n",
    "x = (4, 3)"
   ]
  },
  {
   "cell_type": "markdown",
   "id": "fec42f7d-6309-4c7b-b047-2e89406996c3",
   "metadata": {},
   "source": [
    "### (a) Vilken dimension har vektorn x?\n"
   ]
  },
  {
   "cell_type": "code",
   "execution_count": 126,
   "id": "62b03a8e-415e-4bed-a603-6fe93c9e257c",
   "metadata": {},
   "outputs": [
    {
     "name": "stdout",
     "output_type": "stream",
     "text": [
      "(a) Dimension: 1\n"
     ]
    }
   ],
   "source": [
    "import numpy as np\n",
    "\n",
    "x = np.array([4, 3])  \n",
    "print(\"(a) Dimension:\", x.ndim)  "
   ]
  },
  {
   "cell_type": "markdown",
   "id": "9f23860c-27bd-4f36-99db-6a2e1ac2036e",
   "metadata": {},
   "source": [
    "### (b) Beräkna 5x\n"
   ]
  },
  {
   "cell_type": "code",
   "execution_count": 86,
   "id": "e897b222-b344-43fe-b5ab-e5837363e1e0",
   "metadata": {},
   "outputs": [
    {
     "name": "stdout",
     "output_type": "stream",
     "text": [
      "(b) 5x = [20 15]\n"
     ]
    }
   ],
   "source": [
    "b = 5 * x  \n",
    "print(\"(b) 5x =\", b)"
   ]
  },
  {
   "cell_type": "markdown",
   "id": "94cfa13d-6bdb-43b9-876f-02b9416cb6b0",
   "metadata": {},
   "source": [
    "### (c) Beräkna 3x\n"
   ]
  },
  {
   "cell_type": "code",
   "execution_count": 91,
   "id": "b5d91b8f-83ff-4397-89d4-fb8a36ea3f5e",
   "metadata": {},
   "outputs": [
    {
     "name": "stdout",
     "output_type": "stream",
     "text": [
      "(c) 3x = [12  9]\n"
     ]
    }
   ],
   "source": [
    "c = 3 * x  \n",
    "print(\"(c) 3x =\", c)"
   ]
  },
  {
   "cell_type": "markdown",
   "id": "34c4559e-886c-44b7-bb23-c886d9f97498",
   "metadata": {},
   "source": [
    "### (d) Beräkna 5x + 3x"
   ]
  },
  {
   "cell_type": "code",
   "execution_count": 93,
   "id": "44341528-a5f3-4e72-8bfa-5632bbb947a6",
   "metadata": {},
   "outputs": [
    {
     "name": "stdout",
     "output_type": "stream",
     "text": [
      "(d) 5x + 3x = [32 24]\n"
     ]
    }
   ],
   "source": [
    "d = 5 * x + 3 * x  \n",
    "print(\"(d) 5x + 3x =\", d)"
   ]
  },
  {
   "cell_type": "markdown",
   "id": "f9d05f5e-81d2-4013-aa35-3b817d6b9765",
   "metadata": {},
   "source": [
    "### (e) Beräkna 8x"
   ]
  },
  {
   "cell_type": "code",
   "execution_count": 99,
   "id": "d6763aaf-837d-4c5c-811d-efc67c85ef03",
   "metadata": {},
   "outputs": [
    {
     "name": "stdout",
     "output_type": "stream",
     "text": [
      "(e) 8x = [32 24]\n"
     ]
    }
   ],
   "source": [
    "e = 8 * x  \n",
    "print(\"(e) 8x =\", e)"
   ]
  },
  {
   "cell_type": "markdown",
   "id": "6ac9e770-52a1-4c96-86cc-f9ac85ec36ed",
   "metadata": {},
   "source": [
    "### (f) Beräkna 4x - x"
   ]
  },
  {
   "cell_type": "code",
   "execution_count": 102,
   "id": "9e0ddbcf-e41d-4483-95be-e905f89a1f6f",
   "metadata": {},
   "outputs": [
    {
     "name": "stdout",
     "output_type": "stream",
     "text": [
      "(f) 4x - x = [12  9]\n"
     ]
    }
   ],
   "source": [
    "f = 4 * x - x  \n",
    "print(\"(f) 4x - x =\", f)"
   ]
  },
  {
   "cell_type": "markdown",
   "id": "ae4fb04a-eff7-4bff-91a2-a5312fdb8c59",
   "metadata": {},
   "source": [
    "### (g) Beräkna x^T, vad blir den nya dimensionen?"
   ]
  },
  {
   "cell_type": "code",
   "execution_count": 128,
   "id": "f52402de-d135-4e6c-98d9-f517f2077b31",
   "metadata": {},
   "outputs": [
    {
     "name": "stdout",
     "output_type": "stream",
     "text": [
      "(g) Transponerad vektor: [[4]\n",
      " [3]]\n",
      "Dimension av transponerad: 2\n"
     ]
    }
   ],
   "source": [
    "x_2D = x.reshape(1, -1)  # Gör om till 2D-array\n",
    "x_2D = x_2D.T  # Transponera\n",
    "print(\"(g) Transponerad vektor:\", x_2D)\n",
    "print(\"Dimension av transponerad:\", x_2D.ndim)\n"
   ]
  },
  {
   "cell_type": "markdown",
   "id": "bf287191-6909-4c88-a8ef-99af71c41f1a",
   "metadata": {},
   "source": [
    "### (h) Är x + x^T definierat?\n",
    "Nej, x har dimension (2,) (1D-array), medan x^T har dimension(2, 1). Dimensionerna måste vara lika"
   ]
  },
  {
   "cell_type": "markdown",
   "id": "7967522e-d241-4420-9a09-3fca27ad456c",
   "metadata": {},
   "source": [
    "### (i) Beräkna  \\|\\|x\\|\\|"
   ]
  },
  {
   "cell_type": "code",
   "execution_count": 146,
   "id": "c754874a-f87e-4f13-a980-5a40e1843acc",
   "metadata": {},
   "outputs": [
    {
     "name": "stdout",
     "output_type": "stream",
     "text": [
      "(i) ||x|| = 5.0\n"
     ]
    }
   ],
   "source": [
    "x_norm = np.linalg.norm(x)  # Beräkna normen\n",
    "print(\"(i) ||x|| =\", x_norm)\n"
   ]
  },
  {
   "cell_type": "markdown",
   "id": "9f20dceb-7d78-424b-b616-cf6dd67c3b93",
   "metadata": {},
   "source": [
    "## Övningsuppgifter 10.2.1\n",
    "Definiera matriserna:"
   ]
  },
  {
   "cell_type": "code",
   "execution_count": 3,
   "id": "89df88af-3668-4d98-a0a4-e6d92eea0f89",
   "metadata": {},
   "outputs": [],
   "source": [
    "import numpy as np\n",
    "A = np.array([[2, 1, -1], [1, -1, 1]])\n",
    "B = np.array([[4, -2, 1], [2, -4, -2]])\n",
    "C = np.array([[1, 2], [2, 1]])\n",
    "D = np.array([[3, 4], [4, 3]])\n",
    "E = np.array([[1], [2]])\n",
    "I = np.array([[1, 0], [0, 1]])\n"
   ]
  },
  {
   "cell_type": "markdown",
   "id": "ef0d1fda-8864-423e-ba92-d9563c3ec88d",
   "metadata": {},
   "source": [
    "### (a) Beräkna 2A"
   ]
  },
  {
   "cell_type": "code",
   "execution_count": 6,
   "id": "31e8a24b-472b-447d-87df-a9e454bd4ab6",
   "metadata": {},
   "outputs": [
    {
     "name": "stdout",
     "output_type": "stream",
     "text": [
      "(a) 2A = [[ 4  2 -2]\n",
      " [ 2 -2  2]]\n"
     ]
    }
   ],
   "source": [
    "a = 2 * A\n",
    "print('(a) 2A =',a)\n"
   ]
  },
  {
   "cell_type": "markdown",
   "id": "23b82089-c80e-44b6-b09f-6520d91d8017",
   "metadata": {},
   "source": [
    "### (b) Beräkna B - 2A "
   ]
  },
  {
   "cell_type": "code",
   "execution_count": 9,
   "id": "7ae4ad8e-3de9-4d5d-b008-fe21d69baf74",
   "metadata": {},
   "outputs": [
    {
     "name": "stdout",
     "output_type": "stream",
     "text": [
      "(b) B - 2A = [[ 0 -4  3]\n",
      " [ 0 -2 -4]]\n"
     ]
    }
   ],
   "source": [
    "b = B - 2 * A\n",
    "print('(b) B - 2A =', b)"
   ]
  },
  {
   "cell_type": "markdown",
   "id": "5a7a6daa-f670-4f72-b6a9-585baba9bccf",
   "metadata": {},
   "source": [
    "### (c) Beräkna 3C - 2E"
   ]
  },
  {
   "cell_type": "code",
   "execution_count": 12,
   "id": "f7019c5e-ba5a-4a07-82e8-f39de27198f2",
   "metadata": {},
   "outputs": [
    {
     "name": "stdout",
     "output_type": "stream",
     "text": [
      "(c) 3C - 2E = [[ 1  4]\n",
      " [ 2 -1]]\n"
     ]
    }
   ],
   "source": [
    "c = 3 * C - 2 * E\n",
    "print('(c) 3C - 2E =', c)\n"
   ]
  },
  {
   "cell_type": "markdown",
   "id": "7b5e3d53-0648-4b92-b842-4b15ea09f091",
   "metadata": {},
   "source": [
    "### (d) Beräkna 2D - 3C"
   ]
  },
  {
   "cell_type": "code",
   "execution_count": 15,
   "id": "3c005471-308d-4e69-832c-dec9d470f044",
   "metadata": {},
   "outputs": [
    {
     "name": "stdout",
     "output_type": "stream",
     "text": [
      "(d) 2D - 3C = [[3 2]\n",
      " [2 3]]\n"
     ]
    }
   ],
   "source": [
    "d = 2 * D - 3 * C\n",
    "print('(d) 2D - 3C =', d)\n"
   ]
  },
  {
   "cell_type": "markdown",
   "id": "5c6e2a44-6722-48f3-90e3-8d4682496693",
   "metadata": {},
   "source": [
    "### (e) Beräkna D^T + 2D"
   ]
  },
  {
   "cell_type": "code",
   "execution_count": 18,
   "id": "fd11a979-6b7c-4a95-b3b0-c74baf9cba41",
   "metadata": {},
   "outputs": [
    {
     "name": "stdout",
     "output_type": "stream",
     "text": [
      "(e) D^T + 2D = [[ 9 12]\n",
      " [12  9]]\n"
     ]
    }
   ],
   "source": [
    "e = D.T + 2 * D\n",
    "print('(e) D^T + 2D =', e)"
   ]
  },
  {
   "cell_type": "markdown",
   "id": "51edcfce-b9dd-48c5-9fcf-dc439e033651",
   "metadata": {},
   "source": [
    "### (f) Beräkna 2C^T - 2D^T"
   ]
  },
  {
   "cell_type": "code",
   "execution_count": 21,
   "id": "f0f83c02-4905-483a-90e9-3b0ee9f2ab38",
   "metadata": {},
   "outputs": [
    {
     "name": "stdout",
     "output_type": "stream",
     "text": [
      "(f) 2C^T - 2D^T = [[-4 -4]\n",
      " [-4 -4]]\n"
     ]
    }
   ],
   "source": [
    "f = 2 * C.T - 2 * D.T\n",
    "print('(f) 2C^T - 2D^T =', f)"
   ]
  },
  {
   "cell_type": "markdown",
   "id": "11db847d-2a31-4a8a-85ad-91bf356090f9",
   "metadata": {},
   "source": [
    "### (g) Beräkna A^T - B"
   ]
  },
  {
   "cell_type": "code",
   "execution_count": 46,
   "id": "a8f47454-17ce-4043-a06f-1ba3b0e996d9",
   "metadata": {},
   "outputs": [
    {
     "name": "stdout",
     "output_type": "stream",
     "text": [
      "Dimension av A^T: (3, 2)\n",
      "Dimension av B: (2, 3)\n",
      "Error in (g): operands could not be broadcast together with shapes (3,2) (2,3) \n"
     ]
    }
   ],
   "source": [
    "\n",
    "print('Dimension av A^T:', A.T.shape)\n",
    "print('Dimension av B:', B.shape)\n",
    "try:\n",
    "    g = A.T - B\n",
    "    print('(g) A^T - B =', g)\n",
    "except ValueError as e:\n",
    "    print('Error in (g):', e)\n",
    "\n",
    "# With some help from ChatGPT..."
   ]
  },
  {
   "cell_type": "markdown",
   "id": "53801db9-33b6-43dd-aa4b-fc896b111a85",
   "metadata": {},
   "source": [
    "### (h) Beräkna AC\n",
    "The number of columns in A is not equal to the number of rows in C. AC is not defined"
   ]
  },
  {
   "cell_type": "code",
   "execution_count": 53,
   "id": "9d65c93a-3fbf-47c3-913c-c5510acc877f",
   "metadata": {},
   "outputs": [
    {
     "name": "stdout",
     "output_type": "stream",
     "text": [
      "Dimension av A: (2, 3)\n",
      "Dimension av C: (2, 2)\n"
     ]
    }
   ],
   "source": [
    "# Kontrollera dimensionerna för A och C\n",
    "print('Dimension av A:', A.shape)\n",
    "print('Dimension av C:', C.shape)"
   ]
  },
  {
   "cell_type": "markdown",
   "id": "268a1f77-076f-44c9-988a-b9e5fec48376",
   "metadata": {},
   "source": [
    "### (i) Beräkna CD"
   ]
  },
  {
   "cell_type": "code",
   "execution_count": 56,
   "id": "4a1119e1-23b9-41ae-a478-902977ae5126",
   "metadata": {},
   "outputs": [
    {
     "name": "stdout",
     "output_type": "stream",
     "text": [
      "(i) CD = [[11 10]\n",
      " [10 11]]\n"
     ]
    }
   ],
   "source": [
    "i = np.dot(C, D)\n",
    "print('(i) CD =', i)"
   ]
  },
  {
   "cell_type": "markdown",
   "id": "1c5dd7b5-6421-4078-8ddd-d9b471d7b6ba",
   "metadata": {},
   "source": [
    "### (j) Beräkna CB"
   ]
  },
  {
   "cell_type": "code",
   "execution_count": 63,
   "id": "47d466aa-aef8-49a5-912a-7b550e43b0c3",
   "metadata": {},
   "outputs": [
    {
     "name": "stdout",
     "output_type": "stream",
     "text": [
      "(i) CB = [[ 4 -2  1]\n",
      " [ 2 -4 -2]]\n"
     ]
    }
   ],
   "source": [
    "j = np.dot(C, B)\n",
    "print('(i) CB =', B)"
   ]
  },
  {
   "cell_type": "markdown",
   "id": "fad78eed-0e2e-4027-b3f9-62242d093a70",
   "metadata": {},
   "source": [
    "### (k) Beräkna CI"
   ]
  },
  {
   "cell_type": "code",
   "execution_count": 66,
   "id": "b20da87b-7e9c-491e-8bb3-bbd5337792af",
   "metadata": {},
   "outputs": [
    {
     "name": "stdout",
     "output_type": "stream",
     "text": [
      "(k) CI = [[1 2]\n",
      " [2 1]]\n"
     ]
    }
   ],
   "source": [
    "k = np.dot(C, I)\n",
    "print('(k) CI =', k)"
   ]
  },
  {
   "cell_type": "markdown",
   "id": "e6086697-f6cc-478e-b64f-207631052613",
   "metadata": {},
   "source": [
    "### (l) Beräkna AB^T\n",
    "The number of columns in A is equal to the number of rows in B^T. AB^T is defined"
   ]
  },
  {
   "cell_type": "code",
   "execution_count": 72,
   "id": "9c36f3a7-09f7-4dd5-8439-acd81b29d0c2",
   "metadata": {},
   "outputs": [
    {
     "name": "stdout",
     "output_type": "stream",
     "text": [
      "Dimension av A: (2, 3)\n",
      "Dimension av B^T: (3, 2)\n",
      "(l) AB^T = [[5 2]\n",
      " [7 4]]\n"
     ]
    }
   ],
   "source": [
    "print(\"Dimension av A:\", A.shape)\n",
    "print(\"Dimension av B^T:\", B.T.shape)\n",
    "\n",
    "l = np.dot(A, B.T)\n",
    "print('(l) AB^T =', l)"
   ]
  },
  {
   "cell_type": "markdown",
   "id": "1eaf8156-f226-49c5-8cea-f4d9a298b200",
   "metadata": {},
   "source": [
    "### Solve all the exercises, except 10.2.4, in chapter 10.2 in the book \"Matematik för yrkeshögskolan\". "
   ]
  },
  {
   "cell_type": "markdown",
   "id": "b05cb388-f530-469d-8055-c8826385b260",
   "metadata": {},
   "source": [
    "### Uppgift 10.2.2: Definiera matrisen och beräkna AA^T"
   ]
  },
  {
   "cell_type": "code",
   "execution_count": 17,
   "id": "be6d23db-8fe7-435e-ba9d-d9f6f676a394",
   "metadata": {},
   "outputs": [
    {
     "name": "stdout",
     "output_type": "stream",
     "text": [
      "Matris A: [[2 3 4]\n",
      " [5 4 1]]\n",
      "\n",
      "Matris A^T: [[2 5]\n",
      " [3 4]\n",
      " [4 1]]\n",
      "\n",
      "Produkten AA^T: [[29 26]\n",
      " [26 42]]\n"
     ]
    }
   ],
   "source": [
    "\n",
    "A = np.array([[2, 3, 4], [5, 4, 1]])\n",
    "A_T = A.T\n",
    "AA_T = np.dot(A, A_T)\n",
    "\n",
    "print('Matris A:', A)\n",
    "print()\n",
    "print('Matris A^T:', A_T)\n",
    "print()\n",
    "print('Produkten AA^T:', AA_T)\n",
    "\n"
   ]
  },
  {
   "cell_type": "markdown",
   "id": "91350859-4b4b-4121-9e91-c67325956f8c",
   "metadata": {},
   "source": [
    "\\[\n",
    "x^2 + y^2 = z^2\n",
    "\\]\n"
   ]
  },
  {
   "cell_type": "markdown",
   "id": "1af4daef-6ea7-4424-ad3e-d62ed00c6bb4",
   "metadata": {},
   "source": [
    "### Uppgift 10.2.3: Verifiera att \\( AB = AC \\) men att \\( B \\neq C \\)\n",
    "AB är lika med AC\n",
    "np.array_equal() används för att kontrollera om B & C är lika (både element samt dimension)"
   ]
  },
  {
   "cell_type": "code",
   "execution_count": 31,
   "id": "f6689a18-2716-4b98-a2b1-85de9a9e808e",
   "metadata": {},
   "outputs": [
    {
     "name": "stdout",
     "output_type": "stream",
     "text": [
      "Matris AB: [[ 4  7]\n",
      " [ 8 14]]\n",
      "\n",
      "Matris AC: [[ 4  7]\n",
      " [ 8 14]]\n",
      "\n",
      "Är B och C lika?: False\n"
     ]
    }
   ],
   "source": [
    "\n",
    "A = np.array([[1, 2], [2, 4]])\n",
    "B = np.array([[2, 1], [1, 3]])\n",
    "C = np.array([[4, 3], [0, 2]])\n",
    "\n",
    "AB = np.dot(A, B)\n",
    "AC = np.dot(A, C)\n",
    "\n",
    "print('Matris AB:', AB)\n",
    "print()\n",
    "print('Matris AC:', AC)\n",
    "print()\n",
    "are_B_and_C_equal = np.array_equal(B, C)\n",
    "print('Är B och C lika?:', are_B_and_C_equal)\n"
   ]
  },
  {
   "cell_type": "markdown",
   "id": "6a4a524f",
   "metadata": {},
   "source": [
    "### Copies and Views\n",
    "Read the following link: https://numpy.org/doc/stable/user/basics.copies.html"
   ]
  },
  {
   "cell_type": "markdown",
   "id": "24523303-2f85-49c2-b38d-96aa02ece19f",
   "metadata": {},
   "source": [
    "**Basic indexing creates a view, How can you check if v1 and v2 is a view or copy? If you change the last element in v2 to 123, will the last element in v1 be changed? Why?**"
   ]
  },
  {
   "cell_type": "markdown",
   "id": "c34b4eeb-e659-4753-9618-49c4f7796f45",
   "metadata": {},
   "source": [
    "The 'base' attribute checks whether the array is a view or a copy."
   ]
  },
  {
   "cell_type": "markdown",
   "id": "2b0e1173-04f8-43be-8b29-bc95596e418a",
   "metadata": {},
   "source": [
    "This is because v2 is a view of v1. If v2 is changed to 123, the last element of v1 will also be changed"
   ]
  },
  {
   "cell_type": "code",
   "execution_count": 72,
   "id": "5b9ef4df",
   "metadata": {},
   "outputs": [
    {
     "name": "stdout",
     "output_type": "stream",
     "text": [
      "[0 1 2 3]\n",
      "[2 3]\n"
     ]
    }
   ],
   "source": [
    "v1 = np.arange(4)\n",
    "v2 = v1[-2:]\n",
    "print(v1)\n",
    "print(v2)"
   ]
  },
  {
   "cell_type": "code",
   "execution_count": 74,
   "id": "d2440489",
   "metadata": {},
   "outputs": [
    {
     "name": "stdout",
     "output_type": "stream",
     "text": [
      "None\n",
      "[0 1 2 3]\n"
     ]
    }
   ],
   "source": [
    "# The base attribute of a view returns the original array while it returns None for a copy.\n",
    "print(v1.base)\n",
    "print(v2.base)"
   ]
  },
  {
   "cell_type": "code",
   "execution_count": 76,
   "id": "c8752807",
   "metadata": {},
   "outputs": [
    {
     "name": "stdout",
     "output_type": "stream",
     "text": [
      "[  0   1   2 123]\n",
      "[  2 123]\n"
     ]
    }
   ],
   "source": [
    "# The last element in v1 will be changed aswell since v2 is a view, meaning they share the same data buffer.\n",
    "v2[-1] = 123\n",
    "print(v1)\n",
    "print(v2)"
   ]
  }
 ],
 "metadata": {
  "kernelspec": {
   "display_name": "Python 3 (ipykernel)",
   "language": "python",
   "name": "python3"
  },
  "language_info": {
   "codemirror_mode": {
    "name": "ipython",
    "version": 3
   },
   "file_extension": ".py",
   "mimetype": "text/x-python",
   "name": "python",
   "nbconvert_exporter": "python",
   "pygments_lexer": "ipython3",
   "version": "3.12.3"
  }
 },
 "nbformat": 4,
 "nbformat_minor": 5
}
